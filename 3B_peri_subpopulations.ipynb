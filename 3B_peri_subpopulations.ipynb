{
 "cells": [
  {
   "cell_type": "markdown",
   "metadata": {},
   "source": [
    "# AntIzetomic analysis of perivascular cells"
   ]
  },
  {
   "cell_type": "code",
   "execution_count": null,
   "metadata": {},
   "outputs": [],
   "source": [
    "import os\n",
    "import numpy as np\n",
    "import pandas as pd\n",
    "import scipy\n",
    "\n",
    "from anndata import AnnData\n",
    "import scanpy as sc\n",
    "import scanpy.external as sce\n",
    "import scvelo as scv\n",
    "\n",
    "import matplotlib as mpl\n",
    "import matplotlib.pyplot as plt\n",
    "import seaborn as sns\n",
    "\n",
    "from tqdm.notebook import tqdm\n",
    "\n",
    "from scripts.batch_process import batch_process, preprocess_adata_sub\n",
    "from cellassign import assign_cats"
   ]
  },
  {
   "cell_type": "code",
   "execution_count": null,
   "metadata": {},
   "outputs": [],
   "source": [
    "seed = 10\n",
    "sc.set_figure_params(dpi=200, dpi_save=300)"
   ]
  },
  {
   "cell_type": "code",
   "execution_count": null,
   "metadata": {},
   "outputs": [],
   "source": [
    "from scipy.stats import spearmanr"
   ]
  },
  {
   "cell_type": "code",
   "execution_count": null,
   "metadata": {},
   "outputs": [],
   "source": [
    "# Selection of palettes for cluster coloring, and scatter values\n",
    "\n",
    "magma = [plt.get_cmap('magma')(i) for i in np.linspace(0,1, 80)]\n",
    "magma[0] = (0.88, 0.88, 0.88, 1)\n",
    "magma = mpl.colors.LinearSegmentedColormap.from_list(\"\", magma[:65])\n",
    "\n",
    "dict_colors_pops = {'#E91E63': ['PC1D0', 'PC1D2', 'PC1D4'],  '#FF5722': ['PC2D0', 'PC2D2', 'PC2D4'], \n",
    "                    '#FFC107': ['PC3D0', 'PC3D2', 'PC3AD4'], '#FFEB3B': ['PC3BD4'], \n",
    "                    '#8BC34A': ['PC4D0', 'PC4D2', 'PC4D4'],  '#2196F3': ['PC5D0', 'PC5D2', 'PC5D4'],\n",
    "                    '#673AB7': ['PC6D0', 'PC6D2', 'PC6D4'],}\n",
    "\n",
    "dict_pops_colors = {x: k for k,v in dict_colors_pops.items() for x in v }     "
   ]
  },
  {
   "cell_type": "markdown",
   "metadata": {},
   "source": [
    "# AnnData loading"
   ]
  },
  {
   "cell_type": "code",
   "execution_count": null,
   "metadata": {},
   "outputs": [],
   "source": [
    "dir_adata_save = os.getcwd() + '/data/preprocessed/'"
   ]
  },
  {
   "cell_type": "code",
   "execution_count": null,
   "metadata": {},
   "outputs": [],
   "source": [
    "adata_D0 = sc.read_h5ad(dir_adata_save + '/A+M_0.h5ad')"
   ]
  },
  {
   "cell_type": "code",
   "execution_count": null,
   "metadata": {},
   "outputs": [],
   "source": [
    "adata_D0"
   ]
  },
  {
   "cell_type": "code",
   "execution_count": null,
   "metadata": {},
   "outputs": [],
   "source": [
    "sc.pl.umap(adata_D0, color=['batch', 'cell_types'], ncols=2)"
   ]
  },
  {
   "cell_type": "code",
   "execution_count": null,
   "metadata": {},
   "outputs": [],
   "source": [
    "adata_D2 = sc.read_h5ad(dir_adata_save + '/A+M_2.h5ad')"
   ]
  },
  {
   "cell_type": "code",
   "execution_count": null,
   "metadata": {},
   "outputs": [],
   "source": [
    "sc.pl.umap(adata_D2, color=['batch', 'cell_types'], ncols=2)"
   ]
  },
  {
   "cell_type": "code",
   "execution_count": null,
   "metadata": {},
   "outputs": [],
   "source": [
    "adata_D4 = sc.read_h5ad(dir_adata_save + '/A+M_4.h5ad')"
   ]
  },
  {
   "cell_type": "code",
   "execution_count": null,
   "metadata": {},
   "outputs": [],
   "source": [
    "sc.pl.umap(adata_D4, color=['batch', 'cell_types'], ncols=2)"
   ]
  },
  {
   "cell_type": "code",
   "execution_count": null,
   "metadata": {},
   "outputs": [],
   "source": [
    "for adata in [adata_D0, adata_D2, adata_D4,]:\n",
    "    adata.obs_names = [i.replace('-1-', '-') for i in adata.obs_names]"
   ]
  },
  {
   "cell_type": "markdown",
   "metadata": {},
   "source": [
    "# Discovering cell subtypes"
   ]
  },
  {
   "cell_type": "code",
   "execution_count": null,
   "metadata": {},
   "outputs": [],
   "source": [
    "cell_type = 'Perivascular'\n",
    "\n",
    "D0_sub = adata_D0[adata_D0.obs['cell_types'] == cell_type]\n",
    "D2_sub = adata_D2[adata_D2.obs['cell_types'] == cell_type]\n",
    "D4_sub = adata_D4[adata_D4.obs['cell_types'] == cell_type]\n",
    "\n",
    "for adata in [D0_sub, D2_sub, D4_sub]:\n",
    "    adata.obs['donor'] = [i[0] for i in adata.obs['batch']]"
   ]
  },
  {
   "cell_type": "markdown",
   "metadata": {},
   "source": [
    "## Preprocessing of day 0"
   ]
  },
  {
   "cell_type": "code",
   "execution_count": null,
   "metadata": {},
   "outputs": [],
   "source": [
    "preprocess_adata_sub(D0_sub, resolution=0.7, n_HVG=700, min_dist=0.5, seed=seed)\n",
    "sc.pl.umap(D0_sub, color=['batch', 'leiden'])"
   ]
  },
  {
   "cell_type": "code",
   "execution_count": null,
   "metadata": {},
   "outputs": [],
   "source": [
    "dict_peri_D0 = {'PC1D0': ['PCP4', 'CNN1', 'DES'],   # P5D0\n",
    "                'PC2D0': ['RERGL', 'BCAM', 'ADIRF'],   # P3D0\n",
    "                'PC3D0': ['CYCS', 'CREM', 'HSPD1'],   # P0D0\n",
    "                'PC4D0': ['RGS5', 'POSTN', 'KCJN8'],   # P2D0\n",
    "                'PC5D0': ['SSTR2', 'FGF7', 'EDNRB'],   # P4D0 \n",
    "                'PC6D0': ['CCL19', 'CXCL12', 'CCL2'],}   # P1D0\n",
    "\n",
    "assign_cats(D0_sub, dict_cats=dict_peri_D0, key_added='cell_subcats', min_score=0.5, quantile_gene_sel=0.8)\n",
    "D0_sub.uns['cell_subcats_colors'] = [dict_pops_colors[i] for i in sorted(set(D0_sub.obs['cell_subcats']))]\n",
    "\n",
    "sc.pl.umap(D0_sub, color=['leiden', 'cell_subcats'])"
   ]
  },
  {
   "cell_type": "code",
   "execution_count": null,
   "metadata": {},
   "outputs": [],
   "source": [
    "sc.tl.rank_genes_groups(D0_sub, groupby='leiden', groups=['4'], reference='rest', method='wilcoxon')\n",
    "sc.pl.rank_genes_groups_tracksplot(D0_sub, dendrogram=False, n_genes=50, use_raw=False)"
   ]
  },
  {
   "cell_type": "code",
   "execution_count": null,
   "metadata": {},
   "outputs": [],
   "source": [
    "D0_sub.write_h5ad(f'{dir_adata_save}/Peri_D0.h5')"
   ]
  },
  {
   "cell_type": "markdown",
   "metadata": {},
   "source": [
    "## Preprocessing of day 2"
   ]
  },
  {
   "cell_type": "code",
   "execution_count": null,
   "metadata": {},
   "outputs": [],
   "source": [
    "preprocess_adata_sub(D2_sub, resolution=2, n_HVG=1000, min_dist=0.2, seed=seed)\n",
    "sc.pl.umap(D2_sub, color=['batch', 'leiden'])"
   ]
  },
  {
   "cell_type": "code",
   "execution_count": null,
   "metadata": {},
   "outputs": [],
   "source": [
    "dict_peri_D2 = {'PC1D2': ['PCP4', 'CNN1', 'DES'],  # P4D2\n",
    "                'PC2D2': ['RERGL', 'BCAM', 'ADIRF'],  # P1D2\n",
    "                'PC3D2': ['CYCS', 'CREM', 'HSPD1'],  # P3D2\n",
    "                'PC4D2': ['RGS5', 'ABCC9', 'NCKAP5'],  # P0D2\n",
    "                'PC5D2': ['SOD2', 'GJA4', 'SSTR2'],  # Didn't exist\n",
    "                'PC6D2': ['CCL19', 'CXCL12', 'CCL2'],}  # P2D2\n",
    "\n",
    "assign_cats(D2_sub, dict_cats=dict_peri_D2, key_added='cell_subcats', min_score=0.5, quantile_gene_sel=0.99)\n",
    "D2_sub.uns['cell_subcats_colors'] = [dict_pops_colors[i] for i in sorted(set(D2_sub.obs['cell_subcats']))]\n",
    "\n",
    "sc.pl.umap(D2_sub, color=['leiden', 'cell_subcats'])"
   ]
  },
  {
   "cell_type": "code",
   "execution_count": null,
   "metadata": {},
   "outputs": [],
   "source": [
    "sc.pl.umap(D2_sub, color=['leiden', 'RGS5', 'RERGL', 'CCL19', 'CYCS', 'DES', 'SSTR2', 'FGF7'], cmap=magma, use_raw=False)"
   ]
  },
  {
   "cell_type": "code",
   "execution_count": null,
   "metadata": {},
   "outputs": [],
   "source": [
    "sc.tl.rank_genes_groups(D2_sub, groupby='leiden', groups=['5'], reference='rest', method='wilcoxon')\n",
    "sc.pl.rank_genes_groups_tracksplot(D2_sub, dendrogram=False, n_genes=50, use_raw=False)"
   ]
  },
  {
   "cell_type": "code",
   "execution_count": null,
   "metadata": {},
   "outputs": [],
   "source": [
    "D2_sub.write_h5ad(f'{dir_adata_save}/Peri_D2.h5')"
   ]
  },
  {
   "cell_type": "markdown",
   "metadata": {},
   "source": [
    "## Preprocessing of day 4"
   ]
  },
  {
   "cell_type": "code",
   "execution_count": null,
   "metadata": {},
   "outputs": [],
   "source": [
    "preprocess_adata_sub(D4_sub, resolution=1, n_HVG=1500, min_dist=0.2, seed=seed)\n",
    "sc.pl.umap(D4_sub, color=['batch', 'leiden'])"
   ]
  },
  {
   "cell_type": "code",
   "execution_count": null,
   "metadata": {},
   "outputs": [],
   "source": [
    "dict_peri_D4 = {'PC1D4': ['TPM1', 'DES', 'PCP4'],  # P4D4\n",
    "                'PC2D4': ['RERGL', 'MUSTN1', 'SDF4'],  # P1D4\n",
    "                'PC3AD4': ['CYCS', 'CREM', 'MT1A'],  # P0D4\n",
    "                'PC3BD4': ['IL6', 'INHBA', 'PDK4'],  # P6D4\n",
    "                'PC4D4': ['RGS5', 'ABCC9', 'NDUFA4L2'],  # P2D4\n",
    "                'PC5D4': ['FGF7', 'SSTR2', 'SGIP1'],  # P5D4\n",
    "                'PC6D4': ['CCL19', 'CCL2', 'CCL21'],}  # P3D4\n",
    "\n",
    "assign_cats(D4_sub, dict_cats=dict_peri_D4, key_added='cell_subcats', min_score=0.5, quantile_gene_sel=0.99)\n",
    "D4_sub.uns['cell_subcats_colors'] = [dict_pops_colors[i] for i in sorted(set(D4_sub.obs['cell_subcats']))]\n",
    "\n",
    "sc.pl.umap(D4_sub, color=['leiden', 'cell_subcats'])"
   ]
  },
  {
   "cell_type": "code",
   "execution_count": null,
   "metadata": {},
   "outputs": [],
   "source": [
    "sc.tl.rank_genes_groups(D4_sub, groupby='cell_subcats', groups=['PC3BD4'], reference='rest', method='wilcoxon')\n",
    "sc.pl.rank_genes_groups_tracksplot(D4_sub, dendrogram=False, n_genes=50, use_raw=False)"
   ]
  },
  {
   "cell_type": "code",
   "execution_count": null,
   "metadata": {},
   "outputs": [],
   "source": [
    "D4_sub.write_h5ad(f'{dir_adata_save}/Peri_D4.h5')"
   ]
  }
 ],
 "metadata": {
  "kernelspec": {
   "display_name": "Python [conda env:alex-base] *",
   "language": "python",
   "name": "conda-env-alex-base-py"
  },
  "language_info": {
   "codemirror_mode": {
    "name": "ipython",
    "version": 3
   },
   "file_extension": ".py",
   "mimetype": "text/x-python",
   "name": "python",
   "nbconvert_exporter": "python",
   "pygments_lexer": "ipython3",
   "version": "3.8.0"
  },
  "toc": {
   "base_numbering": 1,
   "nav_menu": {},
   "number_sections": true,
   "sideBar": true,
   "skip_h1_title": false,
   "title_cell": "Table of Contents",
   "title_sidebar": "Contents",
   "toc_cell": false,
   "toc_position": {
    "height": "calc(100% - 180px)",
    "left": "10px",
    "top": "150px",
    "width": "273px"
   },
   "toc_section_display": true,
   "toc_window_display": true
  },
  "varInspector": {
   "cols": {
    "lenName": 16,
    "lenType": 16,
    "lenVar": 40
   },
   "kernels_config": {
    "python": {
     "delete_cmd_postfix": "",
     "delete_cmd_prefix": "del ",
     "library": "var_list.py",
     "varRefreshCmd": "print(var_dic_list())"
    },
    "r": {
     "delete_cmd_postfix": ") ",
     "delete_cmd_prefix": "rm(",
     "library": "var_list.r",
     "varRefreshCmd": "cat(var_dic_list()) "
    }
   },
   "types_to_exclude": [
    "module",
    "function",
    "builtin_function_or_method",
    "instance",
    "_Feature"
   ],
   "window_display": false
  }
 },
 "nbformat": 4,
 "nbformat_minor": 4
}
