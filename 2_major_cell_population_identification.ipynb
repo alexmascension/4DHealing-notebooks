{
 "cells": [
  {
   "cell_type": "markdown",
   "id": "93eea9c9-d61e-4d2d-a139-3d60df5d941d",
   "metadata": {},
   "source": [
    "# Identification of major cell populations\n",
    "In this notebook we are going to identify the major skin cell populations in each of the datasets. To make things easier, we are going to join A and M datasets from each day, and get a joined file per day."
   ]
  },
  {
   "cell_type": "code",
   "execution_count": null,
   "id": "c6057676-52c7-4d65-b301-db918eb0da8d",
   "metadata": {},
   "outputs": [],
   "source": [
    "import os\n",
    "import numpy as np\n",
    "import pandas as pd\n",
    "import matplotlib.pyplot as plt\n",
    "import scanpy as sc\n",
    "from anndata import AnnData\n",
    "import scanpy.external as sce\n",
    "import matplotlib as mpl\n",
    "import seaborn as sns\n",
    "import scipy\n",
    "from tqdm.notebook import tqdm\n",
    "\n",
    "import scvelo as scv\n",
    "\n",
    "from scripts.batch_process import batch_process\n",
    "from cellassign import assign_cats"
   ]
  },
  {
   "cell_type": "code",
   "execution_count": null,
   "id": "77c8eb99-599d-4112-b976-c2e89843d7d1",
   "metadata": {},
   "outputs": [],
   "source": [
    "seed = 10\n",
    "sc.set_figure_params(dpi=200, dpi_save=300)"
   ]
  },
  {
   "cell_type": "code",
   "execution_count": null,
   "id": "2c8d89b9-af21-4081-80b8-0c76b82b9bea",
   "metadata": {},
   "outputs": [],
   "source": [
    "# Selection of palettes for cluster coloring, and scatter values\n",
    "\n",
    "magma = [plt.get_cmap('magma')(i) for i in np.linspace(0,1, 50)]\n",
    "magma[0] = (0.88, 0.88, 0.88, 1)\n",
    "magma = mpl.colors.LinearSegmentedColormap.from_list(\"\", magma[:43])\n",
    "\n",
    "# Discrete palette [Combination of BOLD and VIVID from carto colors]\n",
    "bold_and_vivid = ['#7F3C8D','#11A579','#3969AC','#F2B701','#E73F74','#80BA5A','#E68310','#008695','#CF1C90',\n",
    "           '#f97b72','#4b4b8f', '#E58606','#5D69B1','#52BCA3','#99C945','#CC61B0','#24796C','#DAA51B',\n",
    "           '#2F8AC4','#764E9F','#ED645A','#CC3A8E']\n",
    "\n",
    "prism = ['#5F4690', '#1D6996', '#38A6A5', '#0F8554', '#73AF48', '#EDAD08', '#E17C05', '#CC503E', '#94346E', '#6F4070', '#994E95']\n",
    "prism = prism[::2] + prism[1::2]\n",
    "safe = ['#88CCEE', '#CC6677', '#DDCC77', '#117733', '#332288', '#AA4499', '#44AA99', '#999933', '#882255', '#661100', '#6699CC']\n",
    "vivid = ['#E58606', '#5D69B1', '#52BCA3', '#99C945', '#CC61B0', '#24796C', '#DAA51B', '#2F8AC4', '#764E9F', '#ED645A', '#CC3A8E']\n",
    "bold = ['#7F3C8D', '#11A579', '#3969AC', '#F2B701', '#E73F74', '#80BA5A', '#E68310', '#008695', '#CF1C90', '#f97b72', '#4b4b8f']\n",
    "# Diverging palettes\n",
    "temps = ['#009392', '#39b185', '#9ccb86', '#e9e29c', '#eeb479', '#e88471', '#cf597e']\n",
    "\n",
    "# Continuous palettes\n",
    "teal = ['#d1eeea', '#a8dbd9', '#85c4c9', '#68abb8', '#4f90a6', '#3b738f', '#2a5674']"
   ]
  },
  {
   "cell_type": "code",
   "execution_count": null,
   "id": "6182b08a-aa9e-47cd-b35f-c05d5758b756",
   "metadata": {},
   "outputs": [],
   "source": [
    "dir_preprocessed = os.getcwd() + '/data/preprocessed/'"
   ]
  },
  {
   "cell_type": "code",
   "execution_count": null,
   "id": "e9aa744b-3bbf-4fb0-a787-2a9865df81b7",
   "metadata": {},
   "outputs": [],
   "source": [
    "def simple_processing(adata, hvg_min_mean, hvg_max_mean, hvg_min_disp, pca_ncomps, umap_min_dist, leiden_resolution):\n",
    "    sc.pp.log1p(adata)\n",
    "    sc.pp.highly_variable_genes(adata, min_mean=hvg_min_mean, max_mean=hvg_max_mean, min_disp=hvg_min_disp)\n",
    "    sc.pl.highly_variable_genes(adata)\n",
    "    sc.tl.pca(adata, n_comps=pca_ncomps)\n",
    "    sce.pp.bbknn(adata, metric='angular', approx='False', n_pcs=50)\n",
    "    sc.tl.umap(adata, random_state = seed, min_dist=umap_min_dist)\n",
    "    sc.tl.leiden(adata, resolution=leiden_resolution, random_state = seed)\n",
    "    sc.pl.umap(adata, color=['log1p_total_counts', 'batch', 'leiden'], cmap=magma, palette=bold_and_vivid, ncols=3, alpha=0.9)"
   ]
  },
  {
   "cell_type": "code",
   "execution_count": null,
   "id": "b16530be-25d3-49cc-9f31-2c9e024f4f19",
   "metadata": {},
   "outputs": [],
   "source": [
    "dict_markers = {\n",
    "    'Keratinocytes': ['KRT5', 'KRT10', 'KRT6A', 'KRT16', 'KRT17', 'KRT35', 'MGST1', 'FLG'], \n",
    "    'Fibroblasts': ['PDGFRA', 'COL1A1', 'LUM'], \n",
    "    'Perivascular': ['RGS5', 'MYL9', 'ACTA2', 'TPM2'], \n",
    "    'Lymphatic': ['LYVE1', 'PROX1', 'FLT4', 'PDPN'],\n",
    "    'Endothelial': ['VWF', 'PECAM1', 'CDH5', 'VEGFC', 'ENG', 'IFI27', 'PLVAP'],\n",
    "    'T cells': ['TRAC', 'CD3D', 'CD4', 'CD8A'], \n",
    "    'B cells': ['CD19', 'MS4A1', 'CD34',  'CD38', 'CD79A'], \n",
    "    'Mono/macro': ['AIF1', 'FCGR1A', 'CX3CR1', 'ITGAM', 'CD14', 'CD163'],\n",
    "    'Dendritic': ['CD86', 'HLA-DRA', 'ITGAX'],\n",
    "    'Plasma cell': ['IGKC', 'JCHAIN', 'IGHG2',  'IGHG1'],\n",
    "    'Langerhans': ['CD1A', 'CD207', 'LY75', 'EPCAM'],\n",
    "    'Schwann-melanocyte': ['S100B', 'MPZ',  'SOX10', 'PLP1',  # Schwann\n",
    "                           'PMEL', 'TYR',  'TYRP1', 'MLANA'],  # Melanocyte\n",
    "    'Sweat glands': ['FOXC1',  'TP63', 'SOX9', 'KRT18', 'KRT19', 'AQP5'],\n",
    "    'Merkel': ['GPX2', 'ID2', 'TFAP4', 'FLT1'],\n",
    "    'Fat cells':  ['LPL', 'PPARG', 'CAV1', 'TBK1', 'CEBPB']\n",
    "}\n",
    "\n",
    "palette = bold_and_vivid\n",
    "\n",
    "dict_markers_colors = {\n",
    "    'Keratinocytes': '#399c30',\n",
    "    'Fibroblasts': '#de7400',\n",
    "    'Perivascular': '#dc1886',\n",
    "    'Lymphatic': '#dd7bb4',\n",
    "    'Endothelial': '#dc1f3d',\n",
    "    'T cells': '#204a7d',\n",
    "    'B cells': '#3d82e7',\n",
    "    'Mono/macro': '#2c35e9',\n",
    "    'Dendritic': '#8498ee',\n",
    "    'Plasma cell': '#622fed',\n",
    "    'Schwann-melanocyte': '#733b00',\n",
    "    'Sweat glands': '#c1d000',\n",
    "    'Not assigned': '#bcbcbc'\n",
    "}"
   ]
  },
  {
   "cell_type": "markdown",
   "id": "fb221aa8-8b2a-4c93-9c4b-66a579ad4ebb",
   "metadata": {},
   "source": [
    "# Day 0"
   ]
  },
  {
   "cell_type": "code",
   "execution_count": null,
   "id": "35b39f04-354b-42ad-b892-07dbcb1f667c",
   "metadata": {},
   "outputs": [],
   "source": [
    "adata_A_D0 = sc.read_h5ad(f'{dir_preprocessed}/Ap11_processed.h5')\n",
    "adata_M_D0 = sc.read_h5ad(f'{dir_preprocessed}/Mp11_processed.h5')\n",
    "\n",
    "adata_D0 = sc.AnnData.concatenate(adata_A_D0, adata_M_D0, batch_categories=['A/0', 'M/0'], join='outer')"
   ]
  },
  {
   "cell_type": "code",
   "execution_count": null,
   "id": "4d5dddae-3c0e-4c59-bb35-3ac49c99d06d",
   "metadata": {},
   "outputs": [],
   "source": [
    "batch_process(adata_D0)"
   ]
  },
  {
   "cell_type": "code",
   "execution_count": null,
   "id": "ef329cfe-4589-4798-b549-be10747f8569",
   "metadata": {},
   "outputs": [],
   "source": [
    "simple_processing(adata_D0, hvg_min_mean=0.01, hvg_max_mean=8, hvg_min_disp=0.1, pca_ncomps=50, umap_min_dist=0.6, leiden_resolution=0.5)"
   ]
  },
  {
   "cell_type": "code",
   "execution_count": null,
   "id": "8367975b-1950-4031-aec5-a4aae147df3f",
   "metadata": {},
   "outputs": [],
   "source": [
    "assign_cats(adata_D0, column_groupby='leiden', key_added='cell_types', dict_cats=dict_markers, min_score=0.4, others_name='Not assigned')"
   ]
  },
  {
   "cell_type": "code",
   "execution_count": null,
   "id": "36f614fb-92d5-43a2-9fd9-144954f7e72d",
   "metadata": {},
   "outputs": [],
   "source": [
    "adata_D0.uns['cell_types_colors'] = [dict_markers_colors[i] for i in sorted(set(adata_D0.obs['cell_types']))]\n",
    "sc.pl.umap(adata_D0, color = ['cell_types'], ncols=2)"
   ]
  },
  {
   "cell_type": "code",
   "execution_count": null,
   "id": "01609ad6-f905-4334-9aea-4f26ad1b96f0",
   "metadata": {},
   "outputs": [],
   "source": [
    "for cat, genes in dict_markers.items():\n",
    "    print(cat)\n",
    "    sc.pl.umap(adata_D0, color = ['cell_types'] + [i for i in genes if i in adata_D0.var_names], cmap=magma)"
   ]
  },
  {
   "cell_type": "markdown",
   "id": "7f3dcbf2-5dbe-4619-9f41-53d1998d9ee4",
   "metadata": {},
   "source": [
    "# Day 2"
   ]
  },
  {
   "cell_type": "code",
   "execution_count": null,
   "id": "c44d9e47-c6ee-440e-a8d5-aa07fa0892c3",
   "metadata": {},
   "outputs": [],
   "source": [
    "adata_A_D2 = sc.read_h5ad(f'{dir_preprocessed}/Ap13_processed.h5')\n",
    "adata_M_D2 = sc.read_h5ad(f'{dir_preprocessed}/Mp13_processed.h5')\n",
    "\n",
    "adata_D2 = sc.AnnData.concatenate(adata_A_D2, adata_M_D2, batch_categories=['A/2', 'M/2'], join='outer')"
   ]
  },
  {
   "cell_type": "code",
   "execution_count": null,
   "id": "a1370f74-6d9a-4c69-bc35-62c47bf6e58c",
   "metadata": {},
   "outputs": [],
   "source": [
    "batch_process(adata_D2)"
   ]
  },
  {
   "cell_type": "code",
   "execution_count": null,
   "id": "dec94947-e553-49d8-a60d-34f71b5a0f27",
   "metadata": {},
   "outputs": [],
   "source": [
    "simple_processing(adata_D2, hvg_min_mean=0.01, hvg_max_mean=8, hvg_min_disp=0.1, pca_ncomps=50, umap_min_dist=0.1, leiden_resolution=5)"
   ]
  },
  {
   "cell_type": "code",
   "execution_count": null,
   "id": "70eca72f-65fb-4133-aadc-09d73f07ea86",
   "metadata": {},
   "outputs": [],
   "source": [
    "assign_cats(adata_D2, column_groupby='leiden', key_added='cell_types', dict_cats=dict_markers, min_score=0.45, quantile_gene_sel=0.7, others_name='Not assigned')"
   ]
  },
  {
   "cell_type": "code",
   "execution_count": null,
   "id": "0b8dd0ab-1758-4cb1-b10b-a640c1dbd7d9",
   "metadata": {},
   "outputs": [],
   "source": [
    "adata_D2.uns['cell_types_colors'] = [dict_markers_colors[i] for i in sorted(set(adata_D2.obs['cell_types']))]\n",
    "sc.pl.umap(adata_D2, color = ['cell_types'], ncols=2)"
   ]
  },
  {
   "cell_type": "code",
   "execution_count": null,
   "id": "e16bc196-0c52-4695-a529-5f6c9dc8ea5d",
   "metadata": {},
   "outputs": [],
   "source": [
    "for cat, genes in dict_markers.items():\n",
    "    print(cat)\n",
    "    sc.pl.umap(adata_D2, color = ['cell_types'] + [i for i in genes if i in adata_D2.var_names], cmap=magma)"
   ]
  },
  {
   "cell_type": "markdown",
   "id": "d16645bd-53c8-4eec-b1d3-d9b7e6b8bfc4",
   "metadata": {},
   "source": [
    "# Day 4"
   ]
  },
  {
   "cell_type": "code",
   "execution_count": null,
   "id": "1f94dd0c-ebeb-43d2-81fb-3f957f92913d",
   "metadata": {},
   "outputs": [],
   "source": [
    "adata_A_D4 = sc.read_h5ad(f'{dir_preprocessed}/Ap15_processed.h5')\n",
    "adata_M_D4 = sc.read_h5ad(f'{dir_preprocessed}/Mp15_processed.h5')\n",
    "\n",
    "adata_D4 = sc.AnnData.concatenate(adata_A_D4, adata_M_D4, batch_categories=['A/4', 'M/4'], join='outer')"
   ]
  },
  {
   "cell_type": "code",
   "execution_count": null,
   "id": "480cc1e1-a0ed-492b-be59-eb8f2ffadfda",
   "metadata": {},
   "outputs": [],
   "source": [
    "batch_process(adata_D4)"
   ]
  },
  {
   "cell_type": "code",
   "execution_count": null,
   "id": "80aa182a-7a9d-4c0c-a072-312c49ed0f68",
   "metadata": {},
   "outputs": [],
   "source": [
    "simple_processing(adata_D4, hvg_min_mean=0.01, hvg_max_mean=8, hvg_min_disp=0.05, pca_ncomps=50, umap_min_dist=0.1, leiden_resolution=3)"
   ]
  },
  {
   "cell_type": "code",
   "execution_count": null,
   "id": "745a84cf-4a40-4237-9ec4-3b69271b4276",
   "metadata": {},
   "outputs": [],
   "source": [
    "assign_cats(adata_D4, column_groupby='leiden', key_added='cell_types', dict_cats=dict_markers, min_score=0.37, others_name='Not assigned')"
   ]
  },
  {
   "cell_type": "code",
   "execution_count": null,
   "id": "f67b695b-ad64-4c17-8d21-8f5c577bd0f0",
   "metadata": {},
   "outputs": [],
   "source": [
    "adata_D4.uns['cell_types_colors'] = [dict_markers_colors[i] for i in sorted(set(adata_D4.obs['cell_types']))]\n",
    "sc.pl.umap(adata_D4, color = ['cell_types'], ncols=2)"
   ]
  },
  {
   "cell_type": "code",
   "execution_count": null,
   "id": "4c347b72-4dc2-4b92-960f-18501e92ab61",
   "metadata": {},
   "outputs": [],
   "source": [
    "for cat, genes in dict_markers.items():\n",
    "    print(cat)\n",
    "    sc.pl.umap(adata_D4, color = ['cell_types'] + [i for i in genes if i in adata_D4.var_names], cmap=magma, use_raw=False)"
   ]
  },
  {
   "cell_type": "markdown",
   "id": "0093659d-82bb-4bf4-b610-58dbb123d78b",
   "metadata": {},
   "source": [
    "# Adata Saving"
   ]
  },
  {
   "cell_type": "code",
   "execution_count": null,
   "id": "faaa43ad-edc3-410a-9947-a8f5171900ba",
   "metadata": {},
   "outputs": [],
   "source": [
    "for adata_name in ['adata_D0', 'adata_D2', 'adata_D4']:\n",
    "    eval(adata_name).obs['donor'] = [i[0] for i in eval(adata_name).obs['batch']]\n",
    "    eval(adata_name).obs['day'] = [i[-1] for i in eval(adata_name).obs['batch']]\n",
    "    eval(adata_name).obs = eval(adata_name).obs[['percent_mito', 'n_counts', 'n_genes_by_counts', 'log1p_n_genes_by_counts', 'total_counts', \n",
    "                                  'log1p_total_counts', 'scrublet_doublet', 'size_factors', 'leiden', 'batch', 'donor', 'day', 'cell_types']]\n",
    "    del eval(adata_name).var"
   ]
  },
  {
   "cell_type": "code",
   "execution_count": null,
   "id": "16bb6199-83dc-4738-bdaf-3e49f4ac58ff",
   "metadata": {},
   "outputs": [],
   "source": [
    "adata_D0.write_h5ad(dir_preprocessed + f'A+M_0.h5ad')"
   ]
  },
  {
   "cell_type": "code",
   "execution_count": null,
   "id": "afa389b9-e164-47b7-9ec4-40e300975ca9",
   "metadata": {},
   "outputs": [],
   "source": [
    "adata_D2.write_h5ad(dir_preprocessed + f'A+M_2.h5ad')"
   ]
  },
  {
   "cell_type": "code",
   "execution_count": null,
   "id": "d49d1565-73af-4f61-a3cb-3f8039aaebc2",
   "metadata": {},
   "outputs": [],
   "source": [
    "adata_D4.write_h5ad(dir_preprocessed + f'A+M_4.h5ad')"
   ]
  }
 ],
 "metadata": {
  "kernelspec": {
   "display_name": "Python [conda env:alex-base] *",
   "language": "python",
   "name": "conda-env-alex-base-py"
  },
  "language_info": {
   "codemirror_mode": {
    "name": "ipython",
    "version": 3
   },
   "file_extension": ".py",
   "mimetype": "text/x-python",
   "name": "python",
   "nbconvert_exporter": "python",
   "pygments_lexer": "ipython3",
   "version": "3.8.0"
  }
 },
 "nbformat": 4,
 "nbformat_minor": 5
}
