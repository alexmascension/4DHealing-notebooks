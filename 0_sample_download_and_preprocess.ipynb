{
 "cells": [
  {
   "cell_type": "markdown",
   "id": "42b061de-4065-4ee0-8753-8db104eeedc8",
   "metadata": {},
   "source": [
    "# Environment preparation and FASTQ file download\n",
    "\n",
    "In this notebook we are going to prepare the environment for the preprocessing and analysis of the fastq files. To do that we are going to perform the following steps:\n",
    "* Environment preparation\n",
    "  * Download and install CellRanger / kallisto and genome files\n",
    "* Dataset download and pre-processing\n",
    "  * Download fastq files\n",
    "  * Run CellRanger pipeline\n",
    "  * Run loompy/kallisto pipeline\n"
   ]
  },
  {
   "cell_type": "code",
   "execution_count": null,
   "id": "130cb72d-84b1-4f8d-9736-3eca328e0804",
   "metadata": {},
   "outputs": [],
   "source": [
    "import os\n",
    "import ray\n",
    "import pandas as pd"
   ]
  },
  {
   "cell_type": "code",
   "execution_count": null,
   "id": "2fc28f65-1b72-41d2-b624-81ed02678ec6",
   "metadata": {},
   "outputs": [],
   "source": [
    "n_cpus = 8"
   ]
  },
  {
   "cell_type": "markdown",
   "id": "21bd32a4-5cb2-4519-bac6-7efe66804d13",
   "metadata": {},
   "source": [
    "## Environment preparation"
   ]
  },
  {
   "cell_type": "code",
   "execution_count": null,
   "id": "63cf9cbc-2ef3-4c57-bdf8-4ecf9b296b83",
   "metadata": {},
   "outputs": [],
   "source": [
    "dir_mapper = os.getcwd() + \"/mapper\"\n",
    "os.makedirs(dir_mapper, exist_ok=True)"
   ]
  },
  {
   "cell_type": "markdown",
   "id": "4438370b-9ba5-451d-9dd9-a3bcfb1301b9",
   "metadata": {},
   "source": [
    "### Download and install CellRanger and genome files\n",
    "We will use CellRanger with their reference data."
   ]
  },
  {
   "cell_type": "code",
   "execution_count": null,
   "id": "ec4f1324-7dda-4ced-a727-76676057edf8",
   "metadata": {},
   "outputs": [],
   "source": [
    "!cd {dir_mapper} && wget -O cellranger-6.0.2.tar.gz \"https://cf.10xgenomics.com/releases/cell-exp/cellranger-6.0.2.tar.gz?Expires=1625015730&Policy=eyJTdGF0ZW1lbnQiOlt7IlJlc291cmNlIjoiaHR0cHM6Ly9jZi4xMHhnZW5vbWljcy5jb20vcmVsZWFzZXMvY2VsbC1leHAvY2VsbHJhbmdlci02LjAuMi50YXIuZ3oiLCJDb25kaXRpb24iOnsiRGF0ZUxlc3NUaGFuIjp7IkFXUzpFcG9jaFRpbWUiOjE2MjUwMTU3MzB9fX1dfQ__&Signature=As8f3wksvQDwXVFXBQK7WbblsRUNPAY8dGyYLA6f4DdBQbeb0ld4lCny0AXRYzdHfgNFllVgBtpSfzTgbibPdKNZNbOtiBxv3m3REIJ1sHIw12G0NC2hjxsFRHhta0pFAKWuORxaXHeVIyBxTh1mm0vXcFH3VPvv~haLreqEzYZqbYM0v4ikSum6c5YYVVrVxKom6P4cHQin0T49LRyFYjG83qpu3gaCq86YMwdLbNfn9T35fcmhu3XVpBhFcoZ4hSu0WgNffJ9ENLJibCraZ9q4Fw017pZxd5WT7K6DZ2Wx7EpyvpZv8IRU6as-W1uaQkTnBuY7XPjDFXTBQhL95A__&Key-Pair-Id=APKAI7S6A5RYOXBWRPDA\" && tar xzf cellranger-6.0.2.tar.gz"
   ]
  },
  {
   "cell_type": "code",
   "execution_count": null,
   "id": "514c0495-8b91-457c-9d5a-09dd3c7680a9",
   "metadata": {
    "scrolled": true,
    "tags": []
   },
   "outputs": [],
   "source": [
    "!cd {dir_mapper} && wget https://cf.10xgenomics.com/supp/cell-exp/refdata-gex-GRCh38-2020-A.tar.gz && tar xzf refdata-gex-GRCh38-2020-A.tar.gz"
   ]
  },
  {
   "cell_type": "markdown",
   "id": "96bc6a42-11db-4e9d-9929-fb6e10b5b4c4",
   "metadata": {},
   "source": [
    "### Download kallisto genome files"
   ]
  },
  {
   "cell_type": "code",
   "execution_count": null,
   "id": "cc712f44-39c9-4018-97fd-4953e86c616f",
   "metadata": {},
   "outputs": [],
   "source": [
    "!cd {dir_mapper} && wget https://storage.googleapis.com/linnarsson-lab-www-blobs/human_GRCh38_gencode.v31.tar.gz && tar xzf human_GRCh38_gencode.v31.tar.gz"
   ]
  },
  {
   "cell_type": "markdown",
   "id": "0d2eb525-b408-47e2-a33e-950c88cd4ad9",
   "metadata": {},
   "source": [
    "## Download fastq files"
   ]
  },
  {
   "cell_type": "code",
   "execution_count": null,
   "id": "51bfef36-f165-4de8-bc74-257f674bdf72",
   "metadata": {},
   "outputs": [],
   "source": [
    "fastq_dir = os.getcwd() + '/data/FASTQ'"
   ]
  },
  {
   "cell_type": "code",
   "execution_count": null,
   "id": "c1281064-d86f-4268-8c6a-93ba09eeacb5",
   "metadata": {},
   "outputs": [],
   "source": [
    "dict_links_fastq = {\n",
    "    'SI-GA-C10_Mp11_S1_L001_R1_001.fastq.gz': 'https://zenodo.org/record/5041684/files/SI-GA-C10_Mp11_S1_L001_R1_001.fastq.gz',\n",
    "    'SI-GA-C10_Mp11_S1_L001_R2_001.fastq.gz': 'https://zenodo.org/record/5041684/files/SI-GA-C10_Mp11_S1_L001_R2_001.fastq.gz',\n",
    "    'SI-GA-C10_Mp11_S2_L002_R1_001.fastq.gz': 'https://zenodo.org/record/5041684/files/SI-GA-C10_Mp11_S2_L002_R1_001.fastq.gz',\n",
    "    'SI-GA-C10_Mp11_S2_L002_R2_001.fastq.gz': 'https://zenodo.org/record/5041684/files/SI-GA-C10_Mp11_S2_L002_R2_001.fastq.gz',\n",
    "    'SI-GA-C10_Mp11_S3_L001_R1_001.fastq.gz': 'https://zenodo.org/record/5041684/files/SI-GA-C10_Mp11_S3_L001_R1_001.fastq.gz',\n",
    "    'SI-GA-C10_Mp11_S3_L001_R2_001.fastq.gz': 'https://zenodo.org/record/5041684/files/SI-GA-C10_Mp11_S3_L001_R2_001.fastq.gz',\n",
    "    'SI-GA-C10_Mp11_S4_L002_R1_001.fastq.gz': 'https://zenodo.org/record/5041684/files/SI-GA-C10_Mp11_S4_L002_R1_001.fastq.gz',\n",
    "    'SI-GA-C10_Mp11_S4_L002_R2_001.fastq.gz': 'https://zenodo.org/record/5041684/files/SI-GA-C10_Mp11_S4_L002_R2_001.fastq.gz',\n",
    "    'SI-GA-D12_Ap11_S1_L001_R1_001.fastq.gz': 'https://zenodo.org/record/5041684/files/SI-GA-D12_Ap11_S1_L001_R1_001.fastq.gz',\n",
    "    'SI-GA-D12_Ap11_S1_L001_R2_001.fastq.gz': 'https://zenodo.org/record/5041684/files/SI-GA-D12_Ap11_S1_L001_R2_001.fastq.gz',\n",
    "    'SI-GA-D12_Ap11_S2_L002_R1_001.fastq.gz': 'https://zenodo.org/record/5041684/files/SI-GA-D12_Ap11_S2_L002_R1_001.fastq.gz',\n",
    "    'SI-GA-D12_Ap11_S2_L002_R2_001.fastq.gz': 'https://zenodo.org/record/5041684/files/SI-GA-D12_Ap11_S2_L002_R2_001.fastq.gz',\n",
    "    'SI-GA-D12_Ap11_S3_L001_R1_001.fastq.gz': 'https://zenodo.org/record/5041684/files/SI-GA-D12_Ap11_S3_L001_R1_001.fastq.gz',\n",
    "    'SI-GA-D12_Ap11_S3_L001_R2_001.fastq.gz': 'https://zenodo.org/record/5041684/files/SI-GA-D12_Ap11_S3_L001_R2_001.fastq.gz',\n",
    "    'SI-GA-D12_Ap11_S4_L002_R1_001.fastq.gz': 'https://zenodo.org/record/5041684/files/SI-GA-D12_Ap11_S4_L002_R1_001.fastq.gz',\n",
    "    'SI-GA-D12_Ap11_S4_L002_R2_001.fastq.gz': 'https://zenodo.org/record/5041684/files/SI-GA-D12_Ap11_S4_L002_R2_001.fastq.gz',\n",
    "    'SI-GA-E10_Mp13_S1_L001_R1_001.fastq.gz': 'https://zenodo.org/record/5041684/files/SI-GA-E10_Mp13_S1_L001_R1_001.fastq.gz',\n",
    "    'SI-GA-E10_Mp13_S1_L001_R2_001.fastq.gz': 'https://zenodo.org/record/5041684/files/SI-GA-E10_Mp13_S1_L001_R2_001.fastq.gz',\n",
    "    'SI-GA-E10_Mp13_S2_L002_R1_001.fastq.gz': 'https://zenodo.org/record/5041684/files/SI-GA-E10_Mp13_S2_L002_R1_001.fastq.gz',\n",
    "    'SI-GA-E10_Mp13_S2_L002_R2_001.fastq.gz': 'https://zenodo.org/record/5041684/files/SI-GA-E10_Mp13_S2_L002_R2_001.fastq.gz',\n",
    "    'SI-GA-E10_Mp13_S3_L001_R1_001.fastq.gz': 'https://zenodo.org/record/5041684/files/SI-GA-E10_Mp13_S3_L001_R1_001.fastq.gz',\n",
    "    'SI-GA-E10_Mp13_S3_L001_R2_001.fastq.gz': 'https://zenodo.org/record/5041684/files/SI-GA-E10_Mp13_S3_L001_R2_001.fastq.gz',\n",
    "    'SI-GA-E10_Mp13_S4_L002_R1_001.fastq.gz': 'https://zenodo.org/record/5041684/files/SI-GA-E10_Mp13_S4_L002_R1_001.fastq.gz',\n",
    "    'SI-GA-E10_Mp13_S4_L002_R2_001.fastq.gz': 'https://zenodo.org/record/5041684/files/SI-GA-E10_Mp13_S4_L002_R2_001.fastq.gz',\n",
    "    'SI-GA-G7_Ap13_S1_L001_R1_001.fastq.gz': 'https://zenodo.org/record/5041684/files/SI-GA-G7_Ap13_S1_L001_R1_001.fastq.gz',\n",
    "    'SI-GA-G7_Ap13_S1_L001_R2_001.fastq.gz': 'https://zenodo.org/record/5041684/files/SI-GA-G7_Ap13_S1_L001_R2_001.fastq.gz',\n",
    "    'SI-GA-G7_Ap13_S2_L002_R1_001.fastq.gz': 'https://zenodo.org/record/5041684/files/SI-GA-G7_Ap13_S2_L002_R1_001.fastq.gz',\n",
    "    'SI-GA-G7_Ap13_S2_L002_R2_001.fastq.gz': 'https://zenodo.org/record/5041684/files/SI-GA-G7_Ap13_S2_L002_R2_001.fastq.gz',\n",
    "    'SI-GA-G7_Ap13_S3_L001_R1_001.fastq.gz': 'https://zenodo.org/record/5041684/files/SI-GA-G7_Ap13_S3_L001_R1_001.fastq.gz',\n",
    "    'SI-GA-G7_Ap13_S3_L001_R2_001.fastq.gz': 'https://zenodo.org/record/5041684/files/SI-GA-G7_Ap13_S3_L001_R2_001.fastq.gz',\n",
    "    'SI-GA-G7_Ap13_S4_L002_R1_001.fastq.gz': 'https://zenodo.org/record/5041684/files/SI-GA-G7_Ap13_S4_L002_R1_001.fastq.gz',\n",
    "    'SI-GA-G7_Ap13_S4_L002_R2_001.fastq.gz': 'https://zenodo.org/record/5041684/files/SI-GA-G7_Ap13_S4_L002_R2_001.fastq.gz',\n",
    "    'SI-GA-D10_Mp15_S1_L001_R1_001.fastq.gz': 'https://zenodo.org/record/5041684/files/SI-GA-D10_Mp15_S1_L001_R1_001.fastq.gz',\n",
    "    'SI-GA-D10_Mp15_S1_L001_R2_001.fastq.gz': 'https://zenodo.org/record/5041684/files/SI-GA-D10_Mp15_S1_L001_R2_001.fastq.gz',\n",
    "    'SI-GA-D10_Mp15_S2_L002_R1_001.fastq.gz': 'https://zenodo.org/record/5041684/files/SI-GA-D10_Mp15_S2_L002_R1_001.fastq.gz',\n",
    "    'SI-GA-D10_Mp15_S2_L002_R2_001.fastq.gz': 'https://zenodo.org/record/5041684/files/SI-GA-D10_Mp15_S2_L002_R2_001.fastq.gz',    \n",
    "    'SI-GA-D8_Ap15_S1_L001_R1_001.fastq.gz': 'https://zenodo.org/record/5041684/files/SI-GA-D8_Ap15_S1_L001_R1_001.fastq.gz',\n",
    "    'SI-GA-D8_Ap15_S1_L001_R2_001.fastq.gz': 'https://zenodo.org/record/5041684/files/SI-GA-D8_Ap15_S1_L001_R2_001.fastq.gz',\n",
    "    'SI-GA-D8_Ap15_S2_L002_R1_001.fastq.gz': 'https://zenodo.org/record/5041684/files/SI-GA-D8_Ap15_S2_L002_R1_001.fastq.gz',\n",
    "    'SI-GA-D8_Ap15_S2_L002_R2_001.fastq.gz': 'https://zenodo.org/record/5041684/files/SI-GA-D8_Ap15_S2_L002_R2_001.fastq.gz',\n",
    "    'SI-GA-D8_Ap15_S3_L001_R1_001.fastq.gz': 'https://zenodo.org/record/5041684/files/SI-GA-D8_Ap15_S3_L001_R1_001.fastq.gz',\n",
    "    'SI-GA-D8_Ap15_S3_L001_R2_001.fastq.gz': 'https://zenodo.org/record/5041684/files/SI-GA-D8_Ap15_S3_L001_R2_001.fastq.gz',\n",
    "    'SI-GA-D8_Ap15_S4_L002_R1_001.fastq.gz': 'https://zenodo.org/record/5041684/files/SI-GA-D8_Ap15_S4_L002_R1_001.fastq.gz',\n",
    "    'SI-GA-D8_Ap15_S4_L002_R2_001.fastq.gz': 'https://zenodo.org/record/5041684/files/SI-GA-D8_Ap15_S4_L002_R2_001.fastq.gz',\n",
    "}"
   ]
  },
  {
   "cell_type": "code",
   "execution_count": null,
   "id": "0dbee614-83fb-4668-90d5-11e80cbe60dd",
   "metadata": {},
   "outputs": [],
   "source": [
    "@ray.remote\n",
    "def wget_link(name, url):\n",
    "    prefix = '_'.join(name.split('_')[:2])\n",
    "    print('prefix', prefix)\n",
    "    \n",
    "    if not os.path.exists(f'{fastq_dir}/{prefix}/{name}'):\n",
    "        print(f'Downloading {name}')\n",
    "        os.makedirs(f'{fastq_dir}/{prefix}', exist_ok=True)\n",
    "        os.system(f'wget -nv -O {fastq_dir}/{prefix}/{name} {url}')\n",
    "    else:\n",
    "        print(f'{name} already downloaded')"
   ]
  },
  {
   "cell_type": "code",
   "execution_count": null,
   "id": "093f927a-bac1-4089-83e8-cb61e27e5570",
   "metadata": {},
   "outputs": [],
   "source": [
    "for name_i, url_i in dict_links_fastq.items():\n",
    "    wget_link(name_i, url_i)"
   ]
  },
  {
   "cell_type": "code",
   "execution_count": null,
   "id": "58b5e8a3-7064-449f-a8a7-eeedf29d2606",
   "metadata": {
    "scrolled": true,
    "tags": []
   },
   "outputs": [],
   "source": [
    "ray.init(num_cpus=n_cpus)\n",
    "\n",
    "ray_get = ray.get([wget_link.remote(name_i, url_i) for name_i, url_i in dict_links_fastq.items()])\n",
    "\n",
    "ray.shutdown()"
   ]
  },
  {
   "cell_type": "markdown",
   "id": "e057cb2f-962a-407b-85c5-a5811cec26e2",
   "metadata": {},
   "source": [
    "### Run CellRanger pipeline"
   ]
  },
  {
   "cell_type": "code",
   "execution_count": null,
   "id": "313f7035-4826-4d7c-931d-50d32f1aed33",
   "metadata": {},
   "outputs": [],
   "source": [
    "dir_CR = os.getcwd() + '/data/CR'\n",
    "os.makedirs(dir_CR, exist_ok=True)"
   ]
  },
  {
   "cell_type": "code",
   "execution_count": null,
   "id": "b250a472-e710-4da4-af82-72166b323bc8",
   "metadata": {
    "scrolled": true,
    "tags": []
   },
   "outputs": [],
   "source": [
    "# Ap11\n",
    "!cd {dir_CR} && {dir_mapper}/cellranger-6.0.2/cellranger count --id=SI-GA-D12_Ap11  --expect-cells 1500 --transcriptome={dir_mapper}/refdata-gex-GRCh38-2020-A --fastqs {fastq_dir}/SI-GA-D12_Ap11"
   ]
  },
  {
   "cell_type": "code",
   "execution_count": null,
   "id": "eddab7a0-76d0-49cd-a34f-0283bb700ff4",
   "metadata": {
    "scrolled": true,
    "tags": []
   },
   "outputs": [],
   "source": [
    "# Mp11\n",
    "!cd {dir_CR} && {dir_mapper}/cellranger-6.0.2/cellranger count --id=SI-GA-C10_Mp11  --expect-cells 1500 --transcriptome={dir_mapper}/refdata-gex-GRCh38-2020-A --fastqs {fastq_dir}/SI-GA-C10_Mp11"
   ]
  },
  {
   "cell_type": "code",
   "execution_count": null,
   "id": "1f4b3100-c352-445a-b808-322381e29e39",
   "metadata": {
    "scrolled": true
   },
   "outputs": [],
   "source": [
    "# Ap13\n",
    "!cd {dir_CR} && {dir_mapper}/cellranger-6.0.2/cellranger count --id=SI-GA-G7_Ap13  --expect-cells 1500 --transcriptome={dir_mapper}/refdata-gex-GRCh38-2020-A --fastqs {fastq_dir}/SI-GA-G7_Ap13"
   ]
  },
  {
   "cell_type": "code",
   "execution_count": null,
   "id": "b64cb98e-abf9-43de-8b68-c5d9c3a8d635",
   "metadata": {
    "scrolled": true
   },
   "outputs": [],
   "source": [
    "# Mp13\n",
    "!cd {dir_CR} && {dir_mapper}/cellranger-6.0.2/cellranger count --id=SI-GA-E10_Mp13  --expect-cells 1500 --transcriptome={dir_mapper}/refdata-gex-GRCh38-2020-A --fastqs {fastq_dir}/SI-GA-E10_Mp13"
   ]
  },
  {
   "cell_type": "code",
   "execution_count": null,
   "id": "70450bf4-619e-462e-8d7c-3e9d478514ef",
   "metadata": {
    "scrolled": true
   },
   "outputs": [],
   "source": [
    "# Ap15\n",
    "!cd {dir_CR} && {dir_mapper}/cellranger-6.0.2/cellranger count --id=SI-GA-D8_Ap15  --expect-cells 1500 --transcriptome={dir_mapper}/refdata-gex-GRCh38-2020-A --fastqs {fastq_dir}/SI-GA-D8_Ap15"
   ]
  },
  {
   "cell_type": "code",
   "execution_count": null,
   "id": "88389462-b168-474b-9333-888025c1f0a6",
   "metadata": {
    "scrolled": true
   },
   "outputs": [],
   "source": [
    "# Mp15\n",
    "!cd {dir_CR} && {dir_mapper}/cellranger-6.0.2/cellranger count --id=SI-GA-D10_Mp15  --expect-cells 1500 --transcriptome={dir_mapper}/refdata-gex-GRCh38-2020-A --fastqs {fastq_dir}/SI-GA-D10_Mp15"
   ]
  },
  {
   "cell_type": "markdown",
   "id": "a6228b4f-1366-41d6-b872-9ddc553e2576",
   "metadata": {},
   "source": [
    "### Run loompy/kallisto pipeline"
   ]
  },
  {
   "cell_type": "code",
   "execution_count": null,
   "id": "edf65f0d-2612-49e6-ad0a-7ecc5810ee54",
   "metadata": {},
   "outputs": [],
   "source": [
    "dir_kallisto = os.getcwd() + '/data/kallisto'\n",
    "os.makedirs(dir_kallisto, exist_ok=True)"
   ]
  },
  {
   "cell_type": "code",
   "execution_count": null,
   "id": "54bdbb0b-6f92-47a2-9119-40647cf751f8",
   "metadata": {},
   "outputs": [],
   "source": [
    "df = pd.DataFrame({'name': ['SI-GA-D12_Ap11', 'SI-GA-C10_Mp11', 'SI-GA-G7_Ap13', 'SI-GA-E10_Mp13', 'SI-GA-D8_Ap15', 'SI-GA-D10_Mp15'],\n",
    "                   'technology': ['10xv3'] * 6,\n",
    "                   'targetnumcells': [1500] * 6})\n",
    "\n",
    "df.to_csv(f'{dir_kallisto}/metadata.tab', sep='\\t', index=None)"
   ]
  },
  {
   "cell_type": "code",
   "execution_count": null,
   "id": "1add3b0c-e654-42b2-a2f4-79496084e49d",
   "metadata": {
    "scrolled": true,
    "tags": []
   },
   "outputs": [],
   "source": [
    "sample = 'SI-GA-D12_Ap11'\n",
    "!loompy fromfq {dir_kallisto}/{sample}.loom {sample} {dir_mapper}/human_GRCh38_gencode.v31.600 {dir_kallisto}/metadata.tab {' '.join([f'{fastq_dir}/{sample}/{i}' for i in os.listdir(f'{fastq_dir}/{sample}')])}"
   ]
  },
  {
   "cell_type": "code",
   "execution_count": null,
   "id": "9d279e6f-6039-4840-9e8f-0cd5dd0abf9f",
   "metadata": {
    "scrolled": true
   },
   "outputs": [],
   "source": [
    "sample = 'SI-GA-C10_Mp11'\n",
    "!loompy fromfq {dir_kallisto}/{sample}.loom {sample} {dir_mapper}/human_GRCh38_gencode.v31.600 {dir_kallisto}/metadata.tab {' '.join([f'{fastq_dir}/{sample}/{i}' for i in os.listdir(f'{fastq_dir}/{sample}')])}"
   ]
  },
  {
   "cell_type": "code",
   "execution_count": null,
   "id": "b30e073b-7eae-448e-931c-3cc1d0a84a2c",
   "metadata": {
    "scrolled": true
   },
   "outputs": [],
   "source": [
    "sample = 'SI-GA-G7_Ap13'\n",
    "!loompy fromfq {dir_kallisto}/{sample}.loom {sample} {dir_mapper}/human_GRCh38_gencode.v31.600 {dir_kallisto}/metadata.tab {' '.join([f'{fastq_dir}/{sample}/{i}' for i in os.listdir(f'{fastq_dir}/{sample}')])}"
   ]
  },
  {
   "cell_type": "code",
   "execution_count": null,
   "id": "4a5ce27b-e29b-4bfc-b1ba-d45298efb05e",
   "metadata": {
    "scrolled": true
   },
   "outputs": [],
   "source": [
    "sample = 'SI-GA-E10_Mp13'\n",
    "!loompy fromfq {dir_kallisto}/{sample}.loom {sample} {dir_mapper}/human_GRCh38_gencode.v31.600 {dir_kallisto}/metadata.tab {' '.join([f'{fastq_dir}/{sample}/{i}' for i in os.listdir(f'{fastq_dir}/{sample}')])}"
   ]
  },
  {
   "cell_type": "code",
   "execution_count": null,
   "id": "025407ee-d9aa-4fd1-903d-17246686477a",
   "metadata": {
    "scrolled": true
   },
   "outputs": [],
   "source": [
    "sample = 'SI-GA-D8_Ap15'\n",
    "!loompy fromfq {dir_kallisto}/{sample}.loom {sample} {dir_mapper}/human_GRCh38_gencode.v31.600 {dir_kallisto}/metadata.tab {' '.join([f'{fastq_dir}/{sample}/{i}' for i in os.listdir(f'{fastq_dir}/{sample}')])}"
   ]
  },
  {
   "cell_type": "code",
   "execution_count": null,
   "id": "2ef67de3-e235-4bb8-af76-4c75ddca650b",
   "metadata": {
    "scrolled": true
   },
   "outputs": [],
   "source": [
    "sample = 'SI-GA-D10_Mp15'\n",
    "!loompy fromfq {dir_kallisto}/{sample}.loom {sample} {dir_mapper}/human_GRCh38_gencode.v31.600 {dir_kallisto}/metadata.tab {' '.join([f'{fastq_dir}/{sample}/{i}' for i in os.listdir(f'{fastq_dir}/{sample}')])}"
   ]
  }
 ],
 "metadata": {
  "kernelspec": {
   "display_name": "Python [conda env:alex-base] *",
   "language": "python",
   "name": "conda-env-alex-base-py"
  },
  "language_info": {
   "codemirror_mode": {
    "name": "ipython",
    "version": 3
   },
   "file_extension": ".py",
   "mimetype": "text/x-python",
   "name": "python",
   "nbconvert_exporter": "python",
   "pygments_lexer": "ipython3",
   "version": "3.8.0"
  }
 },
 "nbformat": 4,
 "nbformat_minor": 5
}
