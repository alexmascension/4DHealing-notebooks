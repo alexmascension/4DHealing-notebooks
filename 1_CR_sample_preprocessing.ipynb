{
 "cells": [
  {
   "cell_type": "markdown",
   "id": "149e38e0-8023-408c-8292-a1ff915194e1",
   "metadata": {},
   "source": [
    "# Sample preprocessing\n",
    "\n",
    "In this notebook we are going to preprocess the CellRange raw h5 files to create a preprocessed h5 adata file. The preprocessing consists on the following steps:\n",
    "* QC\n",
    "  * Cell selection\n",
    "  * Mitochondrial content filtering\n",
    "  * Count-based filtering\n",
    "* Scrublet doublet detection\n",
    "* SCRAN Normalization"
   ]
  },
  {
   "cell_type": "code",
   "execution_count": null,
   "id": "a9666345-27f2-49da-9e32-ac43319baa13",
   "metadata": {},
   "outputs": [],
   "source": [
    "import os\n",
    "import numpy as np\n",
    "import pandas as pd\n",
    "import matplotlib.pyplot as plt\n",
    "import scanpy as sc\n",
    "from anndata import AnnData\n",
    "import scanpy.external as sce\n",
    "import matplotlib as mpl\n",
    "import seaborn as sns\n",
    "import scipy.sparse as spr\n",
    "\n",
    "import rpy2.rinterface_lib.callbacks\n",
    "import logging\n",
    "\n",
    "from rpy2.robjects import pandas2ri\n",
    "import anndata2ri\n",
    "\n",
    "import scrublet as scr"
   ]
  },
  {
   "cell_type": "code",
   "execution_count": null,
   "id": "69c624a7-cc28-46f5-85b2-43c62f70400d",
   "metadata": {},
   "outputs": [],
   "source": [
    "from scripts.preprocessing_scripts import cell_selection, cell_selection_plotting, plot_mito, run_scrublet, prepare_norm, apply_norm, adata_preprocessing"
   ]
  },
  {
   "cell_type": "code",
   "execution_count": null,
   "id": "210ec5fd-edfe-473f-8edc-b024cdda93cf",
   "metadata": {},
   "outputs": [],
   "source": [
    "# Ignore R warning messages\n",
    "#Note: this can be commented out to get more verbose R output\n",
    "rpy2.rinterface_lib.callbacks.logger.setLevel(logging.ERROR)\n",
    "\n",
    "# Automatically convert rpy2 outputs to pandas dataframes\n",
    "pandas2ri.activate()\n",
    "anndata2ri.activate()\n",
    "%load_ext rpy2.ipython\n",
    "\n",
    "plt.rcParams['figure.figsize']=(8,8) #rescale figures\n",
    "sc.settings.verbosity = 3\n",
    "sc.set_figure_params(dpi=200, dpi_save=300)"
   ]
  },
  {
   "cell_type": "code",
   "execution_count": null,
   "id": "4f497e31-7c13-4d79-9233-a83da2e5b56e",
   "metadata": {},
   "outputs": [],
   "source": [
    "%%R\n",
    "# Load all the R libraries we will be using in the notebook\n",
    "library(scran)\n",
    "library(sctransform)"
   ]
  },
  {
   "cell_type": "code",
   "execution_count": null,
   "id": "d3054297-7560-40cc-8d7e-0aa2b22518fe",
   "metadata": {},
   "outputs": [],
   "source": [
    "seed = 10\n",
    "\n",
    "# Selection of palettes for cluster coloring, and scatter values\n",
    "magma = [plt.get_cmap('magma')(i) for i in np.linspace(0,1, 20)]\n",
    "magma[0] = (0.88, 0.88, 0.88, 1)\n",
    "magma = mpl.colors.LinearSegmentedColormap.from_list(\"\", magma[:17])\n",
    "\n",
    "# Discrete palette [Combination of BOLD and VIVID from carto colors]\n",
    "bold_and_vivid = ['#7F3C8D','#11A579','#3969AC','#F2B701','#E73F74','#80BA5A','#E68310','#008695','#CF1C90',\n",
    "           '#f97b72','#4b4b8f', '#E58606','#5D69B1','#52BCA3','#99C945','#CC61B0','#24796C','#DAA51B',\n",
    "           '#2F8AC4','#764E9F','#ED645A','#CC3A8E']\n",
    "\n",
    "prism = ['#5F4690', '#1D6996', '#38A6A5', '#0F8554', '#73AF48', '#EDAD08', '#E17C05', '#CC503E', '#94346E', '#6F4070', '#994E95']\n",
    "prism = prism[::2] + prism[1::2]\n",
    "safe = ['#88CCEE', '#CC6677', '#DDCC77', '#117733', '#332288', '#AA4499', '#44AA99', '#999933', '#882255', '#661100', '#6699CC']\n",
    "vivid = ['#E58606', '#5D69B1', '#52BCA3', '#99C945', '#CC61B0', '#24796C', '#DAA51B', '#2F8AC4', '#764E9F', '#ED645A', '#CC3A8E']\n",
    "bold = ['#7F3C8D', '#11A579', '#3969AC', '#F2B701', '#E73F74', '#80BA5A', '#E68310', '#008695', '#CF1C90', '#f97b72', '#4b4b8f']\n",
    "# Diverging palettes\n",
    "temps = ['#009392', '#39b185', '#9ccb86', '#e9e29c', '#eeb479', '#e88471', '#cf597e']\n",
    "\n",
    "# Continuous palettes\n",
    "teal = ['#d1eeea', '#a8dbd9', '#85c4c9', '#68abb8', '#4f90a6', '#3b738f', '#2a5674']"
   ]
  },
  {
   "cell_type": "markdown",
   "id": "84a6a84a-157d-4552-b977-3e490fcac6be",
   "metadata": {},
   "source": [
    "# Load CellRanger adatas"
   ]
  },
  {
   "cell_type": "code",
   "execution_count": null,
   "id": "1275d9af-7fe7-4c80-9431-cd7f77d986ae",
   "metadata": {},
   "outputs": [],
   "source": [
    "dir_CR = os.getcwd() + '/data/CR'"
   ]
  },
  {
   "cell_type": "code",
   "execution_count": null,
   "id": "0249ad95-d752-4532-8eea-20cb57831590",
   "metadata": {},
   "outputs": [],
   "source": [
    "dir_preprocessed = os.getcwd() + '/data/preprocessed'\n",
    "os.makedirs(dir_preprocessed, exist_ok=True)"
   ]
  },
  {
   "cell_type": "code",
   "execution_count": null,
   "id": "7708c59d-ae94-4a68-9c0f-31abc5c67ce6",
   "metadata": {},
   "outputs": [],
   "source": [
    "adata_Ap11 = sc.read_10x_h5(f'{dir_CR}/SI-GA-D12_Ap11/outs/raw_feature_bc_matrix.h5')\n",
    "adata_Ap11.var_names_make_unique()\n",
    "\n",
    "adata_Mp11 = sc.read_10x_h5(f'{dir_CR}/SI-GA-C10_Mp11/outs/raw_feature_bc_matrix.h5')\n",
    "adata_Mp11.var_names_make_unique()\n",
    "\n",
    "adata_Ap13 = sc.read_10x_h5(f'{dir_CR}/SI-GA-G7_Ap13/outs/raw_feature_bc_matrix.h5')\n",
    "adata_Ap13.var_names_make_unique()\n",
    "\n",
    "adata_Mp13 = sc.read_10x_h5(f'{dir_CR}/SI-GA-E10_Mp13/outs/raw_feature_bc_matrix.h5')\n",
    "adata_Mp13.var_names_make_unique()\n",
    "\n",
    "adata_Ap15 = sc.read_10x_h5(f'{dir_CR}/SI-GA-D8_Ap15/outs/raw_feature_bc_matrix.h5')\n",
    "adata_Ap15.var_names_make_unique()\n",
    "\n",
    "adata_Mp15 = sc.read_10x_h5(f'{dir_CR}/SI-GA-D10_Mp15/outs/raw_feature_bc_matrix.h5')\n",
    "adata_Mp15.var_names_make_unique()"
   ]
  },
  {
   "cell_type": "markdown",
   "id": "5d1bde94-56c3-423c-a3dc-2f394922f59b",
   "metadata": {},
   "source": [
    "# Ap11"
   ]
  },
  {
   "cell_type": "code",
   "execution_count": null,
   "id": "151d5fa7-26e1-4ad1-9766-76bf1d895559",
   "metadata": {},
   "outputs": [],
   "source": [
    "# QC - cell selection\n",
    "cell_selection_plotting(adata_Ap11, [4500, 4000, 3500, 3000], palette=bold, cmap=magma)\n",
    "adata_Ap11 = cell_selection(adata_Ap11, selected_n_cells=3100, MALAT1_threshold=2.2)"
   ]
  },
  {
   "cell_type": "code",
   "execution_count": null,
   "id": "8e59b7a7-2a41-448e-9d38-de65e61a5ac7",
   "metadata": {},
   "outputs": [],
   "source": [
    "# QC - mitochondrial content filtering\n",
    "adata_Ap11 = plot_mito(adata_Ap11)\n",
    "adata_Ap11 = adata_Ap11[(adata_Ap11.obs.n_genes_by_counts < 3000) & (adata_Ap11.obs.percent_mito < 0.13), :]"
   ]
  },
  {
   "cell_type": "code",
   "execution_count": null,
   "id": "49294f0f-7c22-4b5e-a00c-7a946c61b0ca",
   "metadata": {},
   "outputs": [],
   "source": [
    "# scrublet\n",
    "adata_Ap11 = run_scrublet(adata_Ap11, min_dist=0.1)"
   ]
  },
  {
   "cell_type": "code",
   "execution_count": null,
   "id": "ad49d705-88f5-46bf-a4bd-2267e1507ca6",
   "metadata": {},
   "outputs": [],
   "source": [
    "# Normalization\n",
    "data_mat, input_groups = prepare_norm(adata_Ap11, n_comps=50, resolution=0.1, seed=seed)"
   ]
  },
  {
   "cell_type": "code",
   "execution_count": null,
   "id": "066afa3e-ed9a-473c-833d-83c03ad33d03",
   "metadata": {},
   "outputs": [],
   "source": [
    "%%R -i data_mat -i input_groups -o size_factors\n",
    "\n",
    "size_factors = BiocGenerics::sizeFactors(scran::computeSumFactors(SingleCellExperiment::SingleCellExperiment(list(counts=data_mat)), clusters=input_groups))"
   ]
  },
  {
   "cell_type": "code",
   "execution_count": null,
   "id": "36069e08-86a3-4818-971c-be8049404ac8",
   "metadata": {},
   "outputs": [],
   "source": [
    "adata_Ap11 = apply_norm(adata_Ap11, size_factors)"
   ]
  },
  {
   "cell_type": "code",
   "execution_count": null,
   "id": "d7e7d2f5-1df2-42cb-a694-0458b824c0c1",
   "metadata": {},
   "outputs": [],
   "source": [
    "# Basic adata preprocessing to save for later\n",
    "adata_preprocessing(adata_Ap11, sample='Ap11', hvg_min_mean=0.01, hvg_max_mean=5, hvg_min_disp=0.2, seed=seed, leiden_resolution=0.1, \n",
    "                    dir_adata_save=dir_preprocessed, cmap=magma, palette=bold_and_vivid)"
   ]
  },
  {
   "cell_type": "markdown",
   "id": "158fa9a1-11f3-43a4-8ad8-36a33b4082f8",
   "metadata": {},
   "source": [
    "# Mp11"
   ]
  },
  {
   "cell_type": "code",
   "execution_count": null,
   "id": "4482fae9-79f3-4c8c-8e64-c637878686ca",
   "metadata": {},
   "outputs": [],
   "source": [
    "# QC - cell selection\n",
    "cell_selection_plotting(adata_Mp11, [4500, 4000, 3500, 3000], palette=bold, cmap=magma)\n",
    "adata_Mp11 = cell_selection(adata_Mp11, selected_n_cells=3200, MALAT1_threshold=3)"
   ]
  },
  {
   "cell_type": "code",
   "execution_count": null,
   "id": "f1d528b2-5bd0-48d2-b8d0-953646b5259b",
   "metadata": {},
   "outputs": [],
   "source": [
    "# QC - mitochondrial content filtering\n",
    "adata_Mp11 = plot_mito(adata_Mp11)\n",
    "adata_Mp11 = adata_Mp11[(adata_Mp11.obs.n_genes_by_counts < 2700) & (adata_Mp11.obs.percent_mito < 0.1), :]"
   ]
  },
  {
   "cell_type": "code",
   "execution_count": null,
   "id": "86e9dcf8-2458-48cb-b523-0e94569c2e3a",
   "metadata": {},
   "outputs": [],
   "source": [
    "# scrublet\n",
    "adata_Mp11 = run_scrublet(adata_Mp11, min_dist=0.01)"
   ]
  },
  {
   "cell_type": "code",
   "execution_count": null,
   "id": "e9b0df31-5bad-4121-94f4-f113f4360f6f",
   "metadata": {},
   "outputs": [],
   "source": [
    "# Normalization\n",
    "data_mat, input_groups = prepare_norm(adata_Mp11, n_comps=50, resolution=0.1, seed=seed)"
   ]
  },
  {
   "cell_type": "code",
   "execution_count": null,
   "id": "71d61479-3b09-49e6-890f-b05189bad3f7",
   "metadata": {},
   "outputs": [],
   "source": [
    "%%R -i data_mat -i input_groups -o size_factors\n",
    "\n",
    "size_factors = BiocGenerics::sizeFactors(scran::computeSumFactors(SingleCellExperiment::SingleCellExperiment(list(counts=data_mat)), clusters=input_groups))"
   ]
  },
  {
   "cell_type": "code",
   "execution_count": null,
   "id": "b78f731e-90f7-4e16-96f9-8ebf59fcfa9a",
   "metadata": {},
   "outputs": [],
   "source": [
    "adata_Mp11 = apply_norm(adata_Mp11, size_factors)"
   ]
  },
  {
   "cell_type": "code",
   "execution_count": null,
   "id": "9e71161b-6009-46f0-a0f4-61383f1857db",
   "metadata": {},
   "outputs": [],
   "source": [
    "# Basic adata preprocessing to save for later\n",
    "adata_preprocessing(adata_Mp11, sample='Mp11', hvg_min_mean=0.01, hvg_max_mean=5, hvg_min_disp=0.2, seed=seed, leiden_resolution=0.1, \n",
    "                    dir_adata_save=dir_preprocessed, cmap=magma, palette=bold_and_vivid)"
   ]
  },
  {
   "cell_type": "markdown",
   "id": "699ae6d8-7f83-49c2-a509-917f9e503dba",
   "metadata": {},
   "source": [
    "# Ap13"
   ]
  },
  {
   "cell_type": "code",
   "execution_count": null,
   "id": "ced2de4b-d280-45a6-9342-137fbaf75e8b",
   "metadata": {},
   "outputs": [],
   "source": [
    "# QC - cell selection\n",
    "cell_selection_plotting(adata_Ap13, [4000, 3500, 3000, 2500], palette=bold, cmap=magma)\n",
    "adata_Ap13 = cell_selection(adata_Ap13, selected_n_cells=3100, MALAT1_threshold=3.3)"
   ]
  },
  {
   "cell_type": "code",
   "execution_count": null,
   "id": "c93bde36-8142-46bf-b34b-edaa2713fdbd",
   "metadata": {},
   "outputs": [],
   "source": [
    "# QC - mitochondrial content filtering\n",
    "adata_Ap13 = plot_mito(adata_Ap13)\n",
    "adata_Ap13 = adata_Ap13[(adata_Ap13.obs.n_genes_by_counts < 2700) & (adata_Ap13.obs.percent_mito < 0.1), :]"
   ]
  },
  {
   "cell_type": "code",
   "execution_count": null,
   "id": "ef68042a-83ec-40aa-817b-f390c5ec820e",
   "metadata": {},
   "outputs": [],
   "source": [
    "# scrublet\n",
    "adata_Ap13 = run_scrublet(adata_Ap13, min_dist=0.01)"
   ]
  },
  {
   "cell_type": "code",
   "execution_count": null,
   "id": "0a6cd412-594a-4330-8fc2-53f6c987a223",
   "metadata": {},
   "outputs": [],
   "source": [
    "# Normalization\n",
    "data_mat, input_groups = prepare_norm(adata_Ap13, n_comps=50, resolution=0.3, seed=seed)"
   ]
  },
  {
   "cell_type": "code",
   "execution_count": null,
   "id": "2364e17f-d492-41ff-b524-e0c72b63f84c",
   "metadata": {},
   "outputs": [],
   "source": [
    "%%R -i data_mat -i input_groups -o size_factors\n",
    "\n",
    "size_factors = BiocGenerics::sizeFactors(scran::computeSumFactors(SingleCellExperiment::SingleCellExperiment(list(counts=data_mat)), clusters=input_groups))"
   ]
  },
  {
   "cell_type": "code",
   "execution_count": null,
   "id": "7c3f24eb-2a07-490c-97d7-2dab747fd484",
   "metadata": {},
   "outputs": [],
   "source": [
    "adata_Ap13 = apply_norm(adata_Ap13, size_factors)"
   ]
  },
  {
   "cell_type": "code",
   "execution_count": null,
   "id": "b2102cb7-7d94-4087-83fe-e9006cf7f7b2",
   "metadata": {},
   "outputs": [],
   "source": [
    "# Basic adata preprocessing to save for later\n",
    "adata_preprocessing(adata_Ap13, sample='Ap13', hvg_min_mean=0.01, hvg_max_mean=5, hvg_min_disp=0, seed=seed, leiden_resolution=0.3, \n",
    "                    dir_adata_save=dir_preprocessed, cmap=magma, palette=bold_and_vivid)"
   ]
  },
  {
   "cell_type": "markdown",
   "id": "6a329c3f-4c4b-45a0-8e36-9164a6a4c42b",
   "metadata": {},
   "source": [
    "# Mp13"
   ]
  },
  {
   "cell_type": "code",
   "execution_count": null,
   "id": "285ca601-9bad-46a8-843f-89536d12c62b",
   "metadata": {},
   "outputs": [],
   "source": [
    "# QC - cell selection\n",
    "cell_selection_plotting(adata_Mp13, [4500, 4000, 3500, 3000], palette=bold, cmap=magma)\n",
    "adata_Mp13 = cell_selection(adata_Mp13, selected_n_cells=1200, MALAT1_threshold=3.2)"
   ]
  },
  {
   "cell_type": "code",
   "execution_count": null,
   "id": "120458c1-1e18-4303-beac-99def9513b8f",
   "metadata": {},
   "outputs": [],
   "source": [
    "# QC - mitochondrial content filtering\n",
    "adata_Mp13 = plot_mito(adata_Mp13)\n",
    "adata_Mp13 = adata_Mp13[(adata_Mp13.obs.n_genes_by_counts < 3000) & (adata_Mp13.obs.percent_mito < 0.13), :]"
   ]
  },
  {
   "cell_type": "code",
   "execution_count": null,
   "id": "454ccfaa-e805-45de-8905-e3eb26896075",
   "metadata": {},
   "outputs": [],
   "source": [
    "# scrublet\n",
    "adata_Mp13 = run_scrublet(adata_Mp13, min_dist=0.01)"
   ]
  },
  {
   "cell_type": "code",
   "execution_count": null,
   "id": "ff6a783b-baba-466b-9d73-f5b5910af794",
   "metadata": {},
   "outputs": [],
   "source": [
    "# Normalization\n",
    "data_mat, input_groups = prepare_norm(adata_Mp13, n_comps=50, resolution=0.3, seed=seed)"
   ]
  },
  {
   "cell_type": "code",
   "execution_count": null,
   "id": "a48b53f9-115c-4649-8251-9f235abbb9a4",
   "metadata": {},
   "outputs": [],
   "source": [
    "%%R -i data_mat -i input_groups -o size_factors\n",
    "\n",
    "size_factors = BiocGenerics::sizeFactors(scran::computeSumFactors(SingleCellExperiment::SingleCellExperiment(list(counts=data_mat)), clusters=input_groups))"
   ]
  },
  {
   "cell_type": "code",
   "execution_count": null,
   "id": "1e41c437-2cc7-4623-88e2-483bf06e716d",
   "metadata": {},
   "outputs": [],
   "source": [
    "adata_Mp13 = apply_norm(adata_Mp13, size_factors)"
   ]
  },
  {
   "cell_type": "code",
   "execution_count": null,
   "id": "9be17b01-2f47-4ca6-b8a0-091f911ff21d",
   "metadata": {
    "tags": []
   },
   "outputs": [],
   "source": [
    "# Basic adata preprocessing to save for later\n",
    "adata_preprocessing(adata_Mp13, sample='Mp13', hvg_min_mean=0.01, hvg_max_mean=5, hvg_min_disp=0.2, seed=seed, leiden_resolution=0.3, \n",
    "                    dir_adata_save=dir_preprocessed, cmap=magma, palette=bold_and_vivid)"
   ]
  },
  {
   "cell_type": "markdown",
   "id": "5d9e8cc4-19c6-4cf3-b784-425efb26acbf",
   "metadata": {},
   "source": [
    "# Ap15"
   ]
  },
  {
   "cell_type": "code",
   "execution_count": null,
   "id": "b818fa4c-3cab-4b94-826f-df8b5dc5e61e",
   "metadata": {},
   "outputs": [],
   "source": [
    "# QC - cell selection\n",
    "cell_selection_plotting(adata_Ap15, [3000, 2500, 2000, 1500], palette=bold, cmap=magma)\n",
    "adata_Ap15 = cell_selection(adata_Ap15, selected_n_cells=1500, MALAT1_threshold=3)"
   ]
  },
  {
   "cell_type": "code",
   "execution_count": null,
   "id": "d81a545e-1119-4596-8b18-90216731739f",
   "metadata": {},
   "outputs": [],
   "source": [
    "# QC - mitochondrial content filtering\n",
    "adata_Ap15 = plot_mito(adata_Ap15)\n",
    "adata_Ap15 = adata_Ap15[(adata_Ap15.obs.n_genes_by_counts < 1700) & (adata_Ap15.obs.percent_mito < 0.15), :]"
   ]
  },
  {
   "cell_type": "code",
   "execution_count": null,
   "id": "c6288614-3e9f-43e2-8445-db37f72692e5",
   "metadata": {},
   "outputs": [],
   "source": [
    "# scrublet\n",
    "adata_Ap15 = run_scrublet(adata_Ap15, min_dist=0.01)"
   ]
  },
  {
   "cell_type": "code",
   "execution_count": null,
   "id": "bf19a4fa-25bc-4957-a931-fbeb41e2f300",
   "metadata": {},
   "outputs": [],
   "source": [
    "# Normalization\n",
    "data_mat, input_groups = prepare_norm(adata_Ap15, n_comps=50, resolution=0.3, seed=seed)"
   ]
  },
  {
   "cell_type": "code",
   "execution_count": null,
   "id": "0b1f76a2-72d8-43fd-ba98-f0ad99083178",
   "metadata": {},
   "outputs": [],
   "source": [
    "%%R -i data_mat -i input_groups -o size_factors\n",
    "\n",
    "size_factors = BiocGenerics::sizeFactors(scran::computeSumFactors(SingleCellExperiment::SingleCellExperiment(list(counts=data_mat)), clusters=input_groups))"
   ]
  },
  {
   "cell_type": "code",
   "execution_count": null,
   "id": "82ed60db-0627-4cb2-9fab-f39b183c3cb4",
   "metadata": {},
   "outputs": [],
   "source": [
    "adata_Ap15 = apply_norm(adata_Ap15, size_factors)"
   ]
  },
  {
   "cell_type": "code",
   "execution_count": null,
   "id": "8d49e947-20e0-4562-a50b-52b46d5dd35a",
   "metadata": {},
   "outputs": [],
   "source": [
    "# Basic adata preprocessing to save for later\n",
    "adata_preprocessing(adata_Ap15, sample='Ap15', hvg_min_mean=0.01, hvg_max_mean=5, hvg_min_disp=0, seed=seed, leiden_resolution=0.3, \n",
    "                    dir_adata_save=dir_preprocessed, cmap=magma, palette=bold_and_vivid)"
   ]
  },
  {
   "cell_type": "markdown",
   "id": "c14c492b-4267-464a-a466-a103fc4e92ad",
   "metadata": {},
   "source": [
    "# Mp15"
   ]
  },
  {
   "cell_type": "code",
   "execution_count": null,
   "id": "b90c78cd-d34a-48dd-89d8-0e6ff996c4f1",
   "metadata": {},
   "outputs": [],
   "source": [
    "# QC - cell selection\n",
    "cell_selection_plotting(adata_Mp15, [4500, 4000, 3500, 3000], palette=bold, cmap=magma)\n",
    "adata_Mp15 = cell_selection(adata_Mp15, selected_n_cells=3500, MALAT1_threshold=3.5)"
   ]
  },
  {
   "cell_type": "code",
   "execution_count": null,
   "id": "3a700c22-c873-4a47-a2ee-892ba8189dc1",
   "metadata": {},
   "outputs": [],
   "source": [
    "# QC - mitochondrial content filtering\n",
    "adata_Mp15 = plot_mito(adata_Mp15)\n",
    "adata_Mp15 = adata_Mp15[(adata_Mp15.obs.n_genes_by_counts < 1700) & (adata_Mp15.obs.percent_mito < 0.13), :]"
   ]
  },
  {
   "cell_type": "code",
   "execution_count": null,
   "id": "3da1c3d7-1d96-4a84-8e4a-0087ac7bcd8b",
   "metadata": {},
   "outputs": [],
   "source": [
    "# scrublet\n",
    "adata_Mp15 = run_scrublet(adata_Mp15, min_dist=0.01)"
   ]
  },
  {
   "cell_type": "code",
   "execution_count": null,
   "id": "80d93fe2-4c89-4afa-a5d9-67ff37d6f0f9",
   "metadata": {},
   "outputs": [],
   "source": [
    "# Normalization\n",
    "data_mat, input_groups = prepare_norm(adata_Mp15, n_comps=50, resolution=0.3, seed=seed)"
   ]
  },
  {
   "cell_type": "code",
   "execution_count": null,
   "id": "2811da21-6d59-4689-8abd-1e6a5c693c21",
   "metadata": {},
   "outputs": [],
   "source": [
    "%%R -i data_mat -i input_groups -o size_factors\n",
    "\n",
    "size_factors = BiocGenerics::sizeFactors(scran::computeSumFactors(SingleCellExperiment::SingleCellExperiment(list(counts=data_mat)), clusters=input_groups))"
   ]
  },
  {
   "cell_type": "code",
   "execution_count": null,
   "id": "4a66f1f3-d3a0-462d-8f0c-68423447bb2d",
   "metadata": {},
   "outputs": [],
   "source": [
    "adata_Mp15 = apply_norm(adata_Mp15, size_factors)"
   ]
  },
  {
   "cell_type": "code",
   "execution_count": null,
   "id": "c5b8d476-32b7-4953-b5d4-79f4a45a7fb5",
   "metadata": {
    "tags": []
   },
   "outputs": [],
   "source": [
    "# Basic adata preprocessing to save for later\n",
    "adata_preprocessing(adata_Mp15, sample='Mp15', hvg_min_mean=0.01, hvg_max_mean=5, hvg_min_disp=0.2, seed=seed, leiden_resolution=0.1, \n",
    "                    dir_adata_save=dir_preprocessed, cmap=magma, palette=bold_and_vivid)"
   ]
  }
 ],
 "metadata": {
  "kernelspec": {
   "display_name": "Python [conda env:alex-base] *",
   "language": "python",
   "name": "conda-env-alex-base-py"
  },
  "language_info": {
   "codemirror_mode": {
    "name": "ipython",
    "version": 3
   },
   "file_extension": ".py",
   "mimetype": "text/x-python",
   "name": "python",
   "nbconvert_exporter": "python",
   "pygments_lexer": "ipython3",
   "version": "3.8.0"
  }
 },
 "nbformat": 4,
 "nbformat_minor": 5
}
